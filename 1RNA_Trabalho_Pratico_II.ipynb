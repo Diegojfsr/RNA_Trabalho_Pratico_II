{
  "nbformat": 4,
  "nbformat_minor": 0,
  "metadata": {
    "colab": {
      "provenance": []
    },
    "kernelspec": {
      "name": "python3",
      "display_name": "Python 3"
    },
    "language_info": {
      "name": "python"
    },
    "accelerator": "GPU",
    "gpuClass": "standard"
  },
  "cells": [
    {
      "cell_type": "markdown",
      "source": [
        "DATASET"
      ],
      "metadata": {
        "id": "iyT4U5Ohc24L"
      }
    },
    {
      "cell_type": "code",
      "execution_count": null,
      "metadata": {
        "id": "E9zZ32ZgcjF1"
      },
      "outputs": [],
      "source": [
        "#!wget https://storage.googleapis.com/mledu-datasets/cats_and_dogs_filtered.zip\n",
        "!wget https://github.com/Diegojfsr/RNA_Trabalho_Pratico_II/blob/main/flowers.zip\n"
      ]
    },
    {
      "cell_type": "code",
      "source": [
        "### descompactar o arquivo Zipado\n",
        "\n",
        "#!unzip cats_and_dogs_filtered.zip\n",
        "!unzip flowers.zip"
      ],
      "metadata": {
        "id": "x-EvhqEkemAs"
      },
      "execution_count": null,
      "outputs": []
    },
    {
      "cell_type": "code",
      "source": [
        "### escluir o arquivo zipado\n",
        "\n",
        "#!rm -rf cats_and_dogs_filtered.zip\n",
        "!rm -rf flowers.zip"
      ],
      "metadata": {
        "id": "qK4yTfv0eyti"
      },
      "execution_count": null,
      "outputs": []
    },
    {
      "cell_type": "code",
      "source": [
        "!pip install tensorflow"
      ],
      "metadata": {
        "id": "QtWzO6j-qWqF"
      },
      "execution_count": null,
      "outputs": []
    },
    {
      "cell_type": "code",
      "source": [
        "import os\n",
        "import matplotlib.pyplot as plt\n",
        "import tensorflow as tf"
      ],
      "metadata": {
        "id": "cyK4De3-qbcs"
      },
      "execution_count": null,
      "outputs": []
    },
    {
      "cell_type": "code",
      "source": [
        "#dataset_dir = os.path.join(os.getcwd(), 'cats_and_dogs_filtered')\n",
        "\n",
        "#dataset_train_dir = os.path.join(dataset_dir, 'train')\n",
        "#dataset_train_cats_len = len(os.listdir(os.path.join(dataset_train_dir, 'cats')))\n",
        "#dataset_train_dogs_len = len(os.listdir(os.path.join(dataset_train_dir, 'dogs')))\n",
        "\n",
        "#dataset_validation_dir = os.path.join(dataset_dir, 'validation')\n",
        "#dataset_validation_cats_len = len(os.listdir(os.path.join(dataset_validation_dir, 'cats')))\n",
        "#dataset_validation_dogs_len = len(os.listdir(os.path.join(dataset_validation_dir, 'dogs')))\n",
        "\n",
        "#print('Train Cats: %s' % dataset_train_cats_len)\n",
        "#print('Train Dogs: %s' % dataset_train_dogs_len)\n",
        "#print('Validation Cats: %s' % dataset_validation_cats_len)\n",
        "#print('Validation Dogs: %s' % dataset_validation_dogs_len)"
      ],
      "metadata": {
        "id": "iQJTKGDfqgzb"
      },
      "execution_count": null,
      "outputs": []
    },
    {
      "cell_type": "code",
      "source": [
        "#### Importando as Imagens\n",
        "### Sepando em Train and test\n",
        "## Verificando a quantidade de imagens\n",
        "\n",
        "dataset = os.path.join(os.getcwd(), 'flowers')\n",
        "\n",
        "dataset_train = os.path.join(dataset, 'train')\n",
        "dataset_train_rose = len(os.listdir(os.path.join(dataset_train, 'rose')))\n",
        "dataset_train_tulip = len(os.listdir(os.path.join(dataset_train, 'tulip')))\n",
        "\n",
        "dataset_test = os.path.join(dataset, 'test')\n",
        "dataset_test_rose = len(os.listdir(os.path.join(dataset_test, 'rose')))\n",
        "dataset_test_tulip = len(os.listdir(os.path.join(dataset_test, 'tulip')))\n",
        "\n",
        "print('Train rose: %s' % dataset_train_rose)\n",
        "print('Train tulip: %s' % dataset_train_tulip)\n",
        "print('Test rose: %s' % dataset_test_rose)\n",
        "print('Test tulip: %s' % dataset_test_tulip)"
      ],
      "metadata": {
        "colab": {
          "base_uri": "https://localhost:8080/"
        },
        "id": "nTxDHnC5qnXJ",
        "outputId": "b6a6fad4-61c7-458e-aeaa-999223a4bbaf"
      },
      "execution_count": null,
      "outputs": [
        {
          "output_type": "stream",
          "name": "stdout",
          "text": [
            "Train rose: 634\n",
            "Train tulip: 794\n",
            "Test rose: 150\n",
            "Test tulip: 190\n"
          ]
        }
      ]
    },
    {
      "cell_type": "code",
      "source": [
        "#image_width = 160\n",
        "#image_height = 160\n",
        "#image_color_channel = 3\n",
        "#image_color_channel_size = 255\n",
        "#image_size = (image_width, image_height)\n",
        "#image_shape = image_size + (image_color_channel,)\n",
        "\n",
        "#batch_size = 32\n",
        "#epochs = 20\n",
        "#learning_rate = 0.0001\n",
        "\n",
        "#class_names = ['cat', 'dog']"
      ],
      "metadata": {
        "id": "hUmp55ilxX87"
      },
      "execution_count": null,
      "outputs": []
    },
    {
      "cell_type": "markdown",
      "source": [
        "Pre-Processamento"
      ],
      "metadata": {
        "id": "Jchd5vecyiwH"
      }
    },
    {
      "cell_type": "code",
      "source": [
        "image_width = 64\n",
        "image_height = 64\n",
        "image_color_channel = 3\n",
        "image_color_channel_size = 255\n",
        "image_size = (image_width, image_height)\n",
        "image_shape = image_size + (image_color_channel,)\n",
        "\n",
        "batch_size = 32  #quantidade de features trazidas por vez do dataset\n",
        "epochs = 20 #quantidade de X que sera passado pela rede\n",
        "learning_rate = 0.0001 #taxa de aprendizagem\n",
        "\n",
        "class_names = ['rose', 'tulip'] #saida"
      ],
      "metadata": {
        "id": "9tG07wEzxfF6"
      },
      "execution_count": null,
      "outputs": []
    },
    {
      "cell_type": "code",
      "source": [
        "dataset_train = tf.keras.preprocessing.image_dataset_from_directory(\n",
        "    dataset_train,\n",
        "    image_size = image_size,\n",
        "    batch_size = batch_size,\n",
        "    shuffle = True\n",
        ")"
      ],
      "metadata": {
        "colab": {
          "base_uri": "https://localhost:8080/"
        },
        "id": "P_iuKde0yheR",
        "outputId": "2b299f07-165e-4830-b122-6ff40cb72c24"
      },
      "execution_count": null,
      "outputs": [
        {
          "output_type": "stream",
          "name": "stdout",
          "text": [
            "Found 1428 files belonging to 2 classes.\n"
          ]
        }
      ]
    },
    {
      "cell_type": "code",
      "source": [
        "dataset_test = tf.keras.preprocessing.image_dataset_from_directory(\n",
        "    dataset_test,\n",
        "    image_size = (image_width, image_height),\n",
        "    batch_size = batch_size,\n",
        "    shuffle = True\n",
        ")"
      ],
      "metadata": {
        "colab": {
          "base_uri": "https://localhost:8080/"
        },
        "id": "COmA0NYwyswu",
        "outputId": "bac34b2d-1b9b-4e2e-cd77-8494d16375f2"
      },
      "execution_count": null,
      "outputs": [
        {
          "output_type": "stream",
          "name": "stdout",
          "text": [
            "Found 340 files belonging to 2 classes.\n"
          ]
        }
      ]
    },
    {
      "cell_type": "code",
      "source": [
        "#dataset_validation_cardinality = tf.data.experimental.cardinality(dataset_validation)\n",
        "#dataset_validation_batches = dataset_validation_cardinality // 5\n",
        "\n",
        "#dataset_test = dataset_validation.take(dataset_validation_batches)\n",
        "#dataset_validation = dataset_validation.skip(dataset_validation_batches)\n",
        "\n",
        "#print('Validation Dataset Cardinality: %d' % tf.data.experimental.cardinality(dataset_validation))\n",
        "#print('Test Dataset Cardinality: %d' % tf.data.experimental.cardinality(dataset_test))"
      ],
      "metadata": {
        "id": "u3clOFzU03Zf"
      },
      "execution_count": null,
      "outputs": []
    },
    {
      "cell_type": "code",
      "source": [
        "dataset_test_cardinality = tf.data.experimental.cardinality(dataset_test)\n",
        "dataset_test_batches = dataset_test_cardinality // 5\n",
        "\n",
        "dataset_test2 = dataset_test.take(dataset_test_batches)\n",
        "dataset_validation = dataset_test.skip(dataset_test_batches)\n",
        "\n",
        "print('Test Dataset Cardinality: %d' % tf.data.experimental.cardinality(dataset_test))\n",
        "print('Test2 Dataset Cardinality: %d' % tf.data.experimental.cardinality(dataset_test2))"
      ],
      "metadata": {
        "colab": {
          "base_uri": "https://localhost:8080/"
        },
        "id": "a4gX3tJ4zJp0",
        "outputId": "21f8740b-939c-4243-f4fd-416ab90be87c"
      },
      "execution_count": null,
      "outputs": [
        {
          "output_type": "stream",
          "name": "stdout",
          "text": [
            "Test Dataset Cardinality: 11\n",
            "Test2 Dataset Cardinality: 2\n"
          ]
        }
      ]
    },
    {
      "cell_type": "code",
      "source": [
        "#autotune = tf.data.AUTOTUNE\n",
        "\n",
        "#dataset_train = dataset_train.prefetch(buffer_size = autotune)\n",
        "#dataset_validation = dataset_validation.prefetch(buffer_size = autotune)\n",
        "#dataset_test = dataset_validation.prefetch(buffer_size = autotune)"
      ],
      "metadata": {
        "id": "CbQUdi8S1yZd"
      },
      "execution_count": null,
      "outputs": []
    },
    {
      "cell_type": "code",
      "source": [
        "\n",
        "autotune = tf.data.AUTOTUNE\n",
        "\n",
        "dataset_train = dataset_train.prefetch(buffer_size = autotune)\n",
        "dataset_test = dataset_test.prefetch(buffer_size = autotune)\n",
        "dataset_test2 = dataset_test.prefetch(buffer_size = autotune)"
      ],
      "metadata": {
        "id": "5T1i4umn12D0"
      },
      "execution_count": null,
      "outputs": []
    },
    {
      "cell_type": "code",
      "source": [
        "###Função para printar Dataset\n",
        "\n",
        "def plot_dataset(dataset):\n",
        "\n",
        "    plt.gcf().clear()\n",
        "    plt.figure(figsize = (15, 15))\n",
        "\n",
        "    for features, labels in dataset.take(1):\n",
        "\n",
        "        for i in range(9):\n",
        "\n",
        "            plt.subplot(3, 3, i + 1)\n",
        "            plt.axis('off')\n",
        "\n",
        "            plt.imshow(features[i].numpy().astype('uint8'))\n",
        "            plt.title(class_names[labels[i]])"
      ],
      "metadata": {
        "id": "qQ8QWAVi2OkK"
      },
      "execution_count": null,
      "outputs": []
    },
    {
      "cell_type": "code",
      "source": [
        "plot_dataset(dataset_train)"
      ],
      "metadata": {
        "id": "YbAxifEN2gBx"
      },
      "execution_count": null,
      "outputs": []
    },
    {
      "cell_type": "code",
      "source": [
        "plot_dataset(dataset_test)"
      ],
      "metadata": {
        "id": "in2azXfH2lxJ"
      },
      "execution_count": null,
      "outputs": []
    },
    {
      "cell_type": "code",
      "source": [
        "plot_dataset(dataset_test2)"
      ],
      "metadata": {
        "id": "TBJs2Egp2rBh"
      },
      "execution_count": null,
      "outputs": []
    },
    {
      "cell_type": "markdown",
      "source": [
        "Criando o Modelo"
      ],
      "metadata": {
        "id": "9-GIQs6B28o4"
      }
    },
    {
      "cell_type": "code",
      "source": [
        "data_augmentation = tf.keras.models.Sequential([\n",
        "    tf.keras.layers.experimental.preprocessing.RandomFlip('horizontal'),\n",
        "    tf.keras.layers.experimental.preprocessing.RandomRotation(0.2),\n",
        "    tf.keras.layers.experimental.preprocessing.RandomZoom(0.2)\n",
        "])"
      ],
      "metadata": {
        "id": "nKo6rXuF2-6g"
      },
      "execution_count": null,
      "outputs": []
    },
    {
      "cell_type": "code",
      "source": [
        "###Função para Inverter posição das imagens/criando varias imagens apartir de uma\n",
        "\n",
        "def plot_dataset_data_augmentation(dataset):\n",
        "\n",
        "    plt.gcf().clear()\n",
        "    plt.figure(figsize = (15, 15))\n",
        "\n",
        "    for features, _ in dataset.take(1):\n",
        "\n",
        "        feature = features[0]\n",
        "\n",
        "        for i in range(9):\n",
        "\n",
        "            feature_data_augmentation = data_augmentation(tf.expand_dims(feature, 0))\n",
        "\n",
        "            plt.subplot(3, 3, i + 1)\n",
        "            plt.axis('off')\n",
        "\n",
        "            plt.imshow(feature_data_augmentation[0] / image_color_channel_size)"
      ],
      "metadata": {
        "id": "YVNIoEoq3GtD"
      },
      "execution_count": null,
      "outputs": []
    },
    {
      "cell_type": "code",
      "source": [
        "plot_dataset_data_augmentation(dataset_train)"
      ],
      "metadata": {
        "id": "sBJDvXuZ3Mkn"
      },
      "execution_count": null,
      "outputs": []
    },
    {
      "cell_type": "markdown",
      "source": [
        "Classificação de Camadas"
      ],
      "metadata": {
        "id": "Eb60nFoH3eb_"
      }
    },
    {
      "cell_type": "code",
      "source": [
        "rescaling = tf.keras.layers.experimental.preprocessing.Rescaling(1. / (image_color_channel_size / 2.), offset = -1, input_shape = image_shape)"
      ],
      "metadata": {
        "id": "cRhU9pKO3eFQ"
      },
      "execution_count": null,
      "outputs": []
    },
    {
      "cell_type": "markdown",
      "source": [
        "Aprendizagem"
      ],
      "metadata": {
        "id": "1hzuk7bE3qqo"
      }
    },
    {
      "cell_type": "code",
      "source": [
        "model_transfer_learning = tf.keras.applications.MobileNetV2(input_shape = image_shape, include_top = False, weights = 'imagenet')\n",
        "model_transfer_learning.trainable = False\n",
        "\n",
        "model_transfer_learning.summary()"
      ],
      "metadata": {
        "id": "KwbGPFOK3tVM"
      },
      "execution_count": null,
      "outputs": []
    },
    {
      "cell_type": "code",
      "source": [
        "early_stopping = tf.keras.callbacks.EarlyStopping(monitor = 'loss', patience = 3)"
      ],
      "metadata": {
        "id": "HFy3F2oc364t"
      },
      "execution_count": null,
      "outputs": []
    },
    {
      "cell_type": "markdown",
      "source": [
        "Modelo"
      ],
      "metadata": {
        "id": "_QRrEH8k3-P1"
      }
    },
    {
      "cell_type": "code",
      "source": [
        "model = tf.keras.models.Sequential([\n",
        "    rescaling,\n",
        "    data_augmentation,\n",
        "    model_transfer_learning,\n",
        "    tf.keras.layers.GlobalAveragePooling2D(),\n",
        "    tf.keras.layers.Dropout(0.2),\n",
        "    tf.keras.layers.Dense(1, activation = 'sigmoid')\n",
        "])\n",
        "\n",
        "model.compile(\n",
        "    optimizer = tf.keras.optimizers.Adam(learning_rate = learning_rate),\n",
        "    loss = tf.keras.losses.BinaryCrossentropy(),\n",
        "    metrics = ['accuracy']\n",
        ")\n",
        "\n",
        "model.summary()"
      ],
      "metadata": {
        "id": "-X92B4xX3_Z-"
      },
      "execution_count": null,
      "outputs": []
    },
    {
      "cell_type": "code",
      "source": [
        "history = model.fit(\n",
        "    dataset_train,\n",
        "    validation_data = dataset_test,\n",
        "    epochs = epochs,\n",
        "    callbacks = [\n",
        "        early_stopping\n",
        "    ]\n",
        ")"
      ],
      "metadata": {
        "id": "ZBKkeKK756VN"
      },
      "execution_count": null,
      "outputs": []
    },
    {
      "cell_type": "code",
      "source": [
        "def plot_model():\n",
        "\n",
        "    accuracy = history.history['accuracy']\n",
        "    val_accuracy = history.history['val_accuracy']\n",
        "\n",
        "    loss = history.history['loss']\n",
        "    val_loss = history.history['val_loss']\n",
        "\n",
        "    epochs_range = range(epochs)\n",
        "\n",
        "    plt.gcf().clear()\n",
        "    plt.figure(figsize = (15, 8))\n",
        "\n",
        "    plt.subplot(1, 2, 1)\n",
        "    plt.title('Training and Validation Accuracy')\n",
        "    plt.plot(epochs_range, accuracy, label = 'Training Accuracy')\n",
        "    plt.plot(epochs_range, val_accuracy, label = 'Validation Accuracy')\n",
        "    plt.legend(loc = 'lower right')\n",
        "\n",
        "    plt.subplot(1, 2, 2)\n",
        "    plt.title('Training and Validation Loss')\n",
        "    plt.plot(epochs_range, loss, label = 'Training Loss')\n",
        "    plt.plot(epochs_range, val_loss, label = 'Validation Loss')\n",
        "    plt.legend(loc = 'lower right')\n",
        "\n",
        "    plt.show()"
      ],
      "metadata": {
        "id": "4HQY-5Hv7txV"
      },
      "execution_count": null,
      "outputs": []
    },
    {
      "cell_type": "code",
      "source": [
        "plot_model()"
      ],
      "metadata": {
        "id": "BZnCUlaK7yG0"
      },
      "execution_count": null,
      "outputs": []
    },
    {
      "cell_type": "markdown",
      "source": [
        "Avaliando o Modelo"
      ],
      "metadata": {
        "id": "jJpR-aqd72no"
      }
    },
    {
      "cell_type": "code",
      "source": [
        "dataset_test_loss, dataset_test_accuracy = model.evaluate(dataset_test)\n",
        "\n",
        "print('Dataset Test Loss:     %s' % dataset_test_loss)\n",
        "print('Dataset Test Accuracy: %s' % dataset_test_accuracy)"
      ],
      "metadata": {
        "id": "4uFKbF1m74fc"
      },
      "execution_count": null,
      "outputs": []
    },
    {
      "cell_type": "code",
      "source": [
        "def plot_dataset_predictions(dataset):\n",
        "\n",
        "    features, labels = dataset_test.as_numpy_iterator().next()\n",
        "\n",
        "    predictions = model.predict_on_batch(features).flatten()\n",
        "    predictions = tf.where(predictions < 0.5, 0, 1)\n",
        "\n",
        "    print('Labels:      %s' % labels)\n",
        "    print('Predictions: %s' % predictions.numpy())\n",
        "\n",
        "    plt.gcf().clear()\n",
        "    plt.figure(figsize = (15, 15))\n",
        "\n",
        "    for i in range(9):\n",
        "\n",
        "        plt.subplot(3, 3, i + 1)\n",
        "        plt.axis('off')\n",
        "\n",
        "        plt.imshow(features[i].astype('uint8'))\n",
        "        plt.title(class_names[predictions[i]])"
      ],
      "metadata": {
        "id": "ognEcCfc8CPj"
      },
      "execution_count": null,
      "outputs": []
    },
    {
      "cell_type": "code",
      "source": [
        "plot_dataset_predictions(dataset_test)"
      ],
      "metadata": {
        "id": "oTVBqGcR8HVZ"
      },
      "execution_count": null,
      "outputs": []
    },
    {
      "cell_type": "markdown",
      "source": [
        "SALVAR E CARREGAR"
      ],
      "metadata": {
        "id": "j-MmxNDQ8M_D"
      }
    },
    {
      "cell_type": "code",
      "source": [
        "model.save('model')"
      ],
      "metadata": {
        "id": "M2oHWhr58OSF"
      },
      "execution_count": null,
      "outputs": []
    },
    {
      "cell_type": "code",
      "source": [
        "model = tf.keras.models.load_model('model')"
      ],
      "metadata": {
        "id": "nO9EGSWM8d51"
      },
      "execution_count": null,
      "outputs": []
    },
    {
      "cell_type": "markdown",
      "source": [
        "PREDICTIONS"
      ],
      "metadata": {
        "id": "6KYha1hw8kr8"
      }
    },
    {
      "cell_type": "code",
      "source": [
        "def predict(image_file):\n",
        "\n",
        "    image = tf.keras.preprocessing.image.load_img(image_file, target_size = image_size)\n",
        "    image = tf.keras.preprocessing.image.img_to_array(image)\n",
        "    image = tf.expand_dims(image, 0)\n",
        "\n",
        "    prediction = model.predict(image)[0][0]\n",
        "\n",
        "    print('Prediction: {0} | {1}'.format(prediction, ('rose' if prediction < 0.5 else 'tulip')))"
      ],
      "metadata": {
        "id": "FlJbZgfL8j-P"
      },
      "execution_count": null,
      "outputs": []
    },
    {
      "cell_type": "code",
      "source": [
        "def predict_url(image_fname, image_origin):\n",
        "\n",
        "    image_file = tf.keras.utils.get_file(image_fname, origin = image_origin)\n",
        "    return predict(image_file)"
      ],
      "metadata": {
        "id": "A6hDRxIZ8uOv"
      },
      "execution_count": null,
      "outputs": []
    },
    {
      "cell_type": "code",
      "source": [
        "predict('chico.png')"
      ],
      "metadata": {
        "id": "tecdFcSzlVL7"
      },
      "execution_count": null,
      "outputs": []
    },
    {
      "cell_type": "code",
      "source": [
        "predict_url('dog', 'https://www.sciencemag.org/sites/default/files/styles/article_main_large/public/main_puppies_1280p.jpg')"
      ],
      "metadata": {
        "id": "0-Nc8DqUlWxB"
      },
      "execution_count": null,
      "outputs": []
    }
  ]
}